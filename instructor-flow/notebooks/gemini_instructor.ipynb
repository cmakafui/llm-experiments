{
 "cells": [
  {
   "cell_type": "code",
   "execution_count": 3,
   "id": "f8af98fa-158c-4871-98d9-ca3bd0920061",
   "metadata": {},
   "outputs": [],
   "source": [
    "import instructor\n",
    "import os\n",
    "import google.generativeai as genai\n",
    "from pydantic import BaseModel\n",
    "from dotenv import load_dotenv"
   ]
  },
  {
   "cell_type": "code",
   "execution_count": 4,
   "id": "18976f2e-c8b0-46a3-b5d3-52d6a6d3c878",
   "metadata": {},
   "outputs": [
    {
     "data": {
      "text/plain": [
       "True"
      ]
     },
     "execution_count": 4,
     "metadata": {},
     "output_type": "execute_result"
    }
   ],
   "source": [
    "load_dotenv()"
   ]
  },
  {
   "cell_type": "code",
   "execution_count": 5,
   "id": "4904587a-8687-4f0f-b8c1-07a91070f48e",
   "metadata": {},
   "outputs": [],
   "source": [
    "class User(BaseModel):\n",
    "    name: str\n",
    "    age: int"
   ]
  },
  {
   "cell_type": "code",
   "execution_count": 6,
   "id": "ad51575e-1040-4a1e-8672-753fac4cb958",
   "metadata": {},
   "outputs": [],
   "source": [
    "genai.configure(api_key=os.environ[\"GOOGLE_API_KEY\"])"
   ]
  },
  {
   "cell_type": "code",
   "execution_count": 7,
   "id": "51300762-072c-48bb-b351-01a199246b6f",
   "metadata": {},
   "outputs": [],
   "source": [
    "client = instructor.from_gemini(\n",
    "    client=genai.GenerativeModel(\n",
    "        model_name=\"models/gemini-1.5-flash-latest\",  # model defaults to \"gemini-pro\"\n",
    "    ),\n",
    "    mode=instructor.Mode.GEMINI_JSON,\n",
    ")"
   ]
  },
  {
   "cell_type": "code",
   "execution_count": 8,
   "id": "2209a818-e70e-430f-ab6b-b157b23b9d66",
   "metadata": {},
   "outputs": [],
   "source": [
    "# note that client.chat.completions.create will also work\n",
    "resp = client.messages.create(\n",
    "    messages=[\n",
    "        {\n",
    "            \"role\": \"user\",\n",
    "            \"content\": \"Extract Jason is 25 years old.\",\n",
    "        }\n",
    "    ],\n",
    "    response_model=User,\n",
    ")"
   ]
  },
  {
   "cell_type": "code",
   "execution_count": 9,
   "id": "1db70e11-c9e8-4e4a-b5d9-dddcec86e713",
   "metadata": {},
   "outputs": [],
   "source": [
    "assert isinstance(resp, User)\n",
    "assert resp.name == \"Jason\"\n",
    "assert resp.age == 25"
   ]
  },
  {
   "cell_type": "code",
   "execution_count": 10,
   "id": "b57e9bff-8523-48b1-a956-0ab244ee99c6",
   "metadata": {},
   "outputs": [
    {
     "name": "stdout",
     "output_type": "stream",
     "text": [
      "name='Jason' age=25\n"
     ]
    }
   ],
   "source": [
    "print(resp)"
   ]
  },
  {
   "cell_type": "code",
   "execution_count": null,
   "id": "53ac0f04-b107-48aa-8d7f-3888d181449a",
   "metadata": {},
   "outputs": [],
   "source": []
  }
 ],
 "metadata": {
  "kernelspec": {
   "display_name": "Python 3 (ipykernel)",
   "language": "python",
   "name": "python3"
  },
  "language_info": {
   "codemirror_mode": {
    "name": "ipython",
    "version": 3
   },
   "file_extension": ".py",
   "mimetype": "text/x-python",
   "name": "python",
   "nbconvert_exporter": "python",
   "pygments_lexer": "ipython3",
   "version": "3.12.3"
  }
 },
 "nbformat": 4,
 "nbformat_minor": 5
}
